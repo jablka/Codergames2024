{
 "cells": [
  {
   "cell_type": "code",
   "execution_count": null,
   "metadata": {},
   "outputs": [],
   "source": [
    "# computed only for test case (5) and first input value (137),\n",
    "# because the rest values (31415 and 20241223) would took too many resources.\n",
    "# So the algorithm might need further optimisation."
   ]
  },
  {
   "cell_type": "code",
   "execution_count": 8,
   "metadata": {},
   "outputs": [],
   "source": [
    "def task(N):\n",
    "    grid = []\n",
    "    counter = 0\n",
    "    for i in range(1,N+1):\n",
    "        mylist=[]\n",
    "        for ii in range(1,N+1):\n",
    "            counter += 1\n",
    "            mylist.append(counter)\n",
    "        grid.append(mylist)\n",
    "    # grid    \n",
    "\n",
    "    summer = 0\n",
    "\n",
    "    for i in range(N//2+1):\n",
    "        if i == 0:\n",
    "            summer +=grid[i][N//2]\n",
    "            # print(grid[i][N//2])\n",
    "        else:\n",
    "            # print(grid[i][N//2-i], grid[i][N//2+i])\n",
    "            summer +=grid[i][N//2-i]\n",
    "            summer +=grid[i][N//2+i]\n",
    "\n",
    "    counter = 0\n",
    "    for i in range(N//2+1,N):\n",
    "        counter +=1\n",
    "        # print(i)\n",
    "        if i == N-1:\n",
    "            # print(grid[i][N//2])    \n",
    "            summer += grid[i][N//2]\n",
    "        else:\n",
    "            # print(grid[i][N//2-counter], grid[i][N//2+counter])    \n",
    "            summer += grid[i][N//2-counter]\n",
    "            summer += grid[i][N//2+counter]\n",
    "\n",
    "    # summer    \n",
    "\n",
    "    res = summer\n",
    "    res    \n",
    "\n",
    "    result = res % 987654321\n",
    "    print(result)\n",
    "    # return result"
   ]
  },
  {
   "cell_type": "code",
   "execution_count": 9,
   "metadata": {},
   "outputs": [
    {
     "name": "stdout",
     "output_type": "stream",
     "text": [
      "104\n"
     ]
    }
   ],
   "source": [
    "task(5)"
   ]
  },
  {
   "cell_type": "code",
   "execution_count": 10,
   "metadata": {},
   "outputs": [
    {
     "name": "stdout",
     "output_type": "stream",
     "text": [
      "2552720\n"
     ]
    }
   ],
   "source": [
    "task(137)"
   ]
  },
  {
   "cell_type": "code",
   "execution_count": 4,
   "metadata": {},
   "outputs": [],
   "source": [
    "# done"
   ]
  }
 ],
 "metadata": {
  "kernelspec": {
   "display_name": "Python 3",
   "language": "python",
   "name": "python3"
  },
  "language_info": {
   "codemirror_mode": {
    "name": "ipython",
    "version": 3
   },
   "file_extension": ".py",
   "mimetype": "text/x-python",
   "name": "python",
   "nbconvert_exporter": "python",
   "pygments_lexer": "ipython3",
   "version": "3.12.0"
  }
 },
 "nbformat": 4,
 "nbformat_minor": 2
}
