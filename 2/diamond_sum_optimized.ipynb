{
 "cells": [
  {
   "cell_type": "code",
   "execution_count": 12,
   "metadata": {},
   "outputs": [],
   "source": [
    "def diamond_outline_sum(N):\n",
    "    # Center of the matrix\n",
    "    center = N // 2 +1 # ...3\n",
    "    total = 0\n",
    "\n",
    "    counter = -1\n",
    "    for i in range(N): # 5\n",
    "        if counter>=center-1: # 2 >= 2 # v skutočnosti je to tretí cyklus, lebo počítame od nuly...\n",
    "            counter -=1\n",
    "        else:\n",
    "            counter +=1\n",
    "\n",
    "        if i==0 or i==N-1: # if prvý alebo posledný cyklus\n",
    "            total+=(i * N + (center)) \n",
    "        else:                 \n",
    "            total+=(i * N + (center - counter))          \n",
    "            total+=(i * N + (center + counter))    \n",
    "                        \n",
    "    print(total)        \n",
    "    return total % 987654321"
   ]
  },
  {
   "cell_type": "code",
   "execution_count": 13,
   "metadata": {},
   "outputs": [
    {
     "name": "stdout",
     "output_type": "stream",
     "text": [
      "104\n"
     ]
    },
    {
     "data": {
      "text/plain": [
       "104"
      ]
     },
     "execution_count": 13,
     "metadata": {},
     "output_type": "execute_result"
    }
   ],
   "source": [
    "# Example: 5x5 matrix\n",
    "diamond_outline_sum(5) # Output: 104"
   ]
  },
  {
   "cell_type": "code",
   "execution_count": null,
   "metadata": {},
   "outputs": [
    {
     "name": "stdout",
     "output_type": "stream",
     "text": [
      "2552720\n"
     ]
    },
    {
     "data": {
      "text/plain": [
       "2552720"
      ]
     },
     "execution_count": 14,
     "metadata": {},
     "output_type": "execute_result"
    }
   ],
   "source": [
    "diamond_outline_sum(137) # 2552720"
   ]
  },
  {
   "cell_type": "code",
   "execution_count": 15,
   "metadata": {},
   "outputs": [
    {
     "name": "stdout",
     "output_type": "stream",
     "text": [
      "31002546527564\n"
     ]
    },
    {
     "data": {
      "text/plain": [
       "77391374"
      ]
     },
     "execution_count": 15,
     "metadata": {},
     "output_type": "execute_result"
    }
   ],
   "source": [
    "diamond_outline_sum(31415) # 77391374"
   ]
  },
  {
   "cell_type": "code",
   "execution_count": 16,
   "metadata": {},
   "outputs": [
    {
     "name": "stdout",
     "output_type": "stream",
     "text": [
      "8292972538849805862060\n"
     ]
    },
    {
     "data": {
      "text/plain": [
       "464692980"
      ]
     },
     "execution_count": 16,
     "metadata": {},
     "output_type": "execute_result"
    }
   ],
   "source": [
    "diamond_outline_sum(20241223) # 464692980"
   ]
  },
  {
   "cell_type": "code",
   "execution_count": null,
   "metadata": {},
   "outputs": [],
   "source": [
    "# done"
   ]
  }
 ],
 "metadata": {
  "kernelspec": {
   "display_name": "Python 3",
   "language": "python",
   "name": "python3"
  },
  "language_info": {
   "codemirror_mode": {
    "name": "ipython",
    "version": 3
   },
   "file_extension": ".py",
   "mimetype": "text/x-python",
   "name": "python",
   "nbconvert_exporter": "python",
   "pygments_lexer": "ipython3",
   "version": "3.12.0"
  }
 },
 "nbformat": 4,
 "nbformat_minor": 2
}
