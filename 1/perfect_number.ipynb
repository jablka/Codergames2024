{
 "cells": [
  {
   "cell_type": "code",
   "execution_count": null,
   "metadata": {},
   "outputs": [],
   "source": [
    "# Task: \n",
    "# finding first five perfect numbers in the range of 2 to 100_000_000. \n",
    "# https://en.wikipedia.org/wiki/Perfect_number"
   ]
  },
  {
   "cell_type": "code",
   "execution_count": 8,
   "metadata": {},
   "outputs": [],
   "source": [
    "# computing first four perfect numbers is easy, because they fall within the range 10_000."
   ]
  },
  {
   "cell_type": "code",
   "execution_count": 9,
   "metadata": {},
   "outputs": [
    {
     "name": "stdout",
     "output_type": "stream",
     "text": [
      "6 is perfect!\n",
      "28 is perfect!\n",
      "496 is perfect!\n",
      "8128 is perfect!\n"
     ]
    }
   ],
   "source": [
    "for n in range(2,10_000):\n",
    "    divisors = []\n",
    "    for i in range(1,n):\n",
    "        if n % i == 0:\n",
    "            divisors.append(i)\n",
    "    if sum(divisors)==n:\n",
    "        print(n,\"is perfect!\")"
   ]
  },
  {
   "cell_type": "code",
   "execution_count": 10,
   "metadata": {},
   "outputs": [
    {
     "name": "stdout",
     "output_type": "stream",
     "text": [
      "6 is perfect!\n",
      "28 is perfect!\n",
      "496 is perfect!\n",
      "8128 is perfect!\n"
     ]
    }
   ],
   "source": [
    "# optimised algorithm:\n",
    "for n in range(2,10_000):\n",
    "    divisors = 1\n",
    "    for i in range(2,n):\n",
    "        if n % i == 0:\n",
    "            divisors += i\n",
    "    if divisors==n:\n",
    "        print(n,\"is perfect!\")  "
   ]
  },
  {
   "cell_type": "code",
   "execution_count": 11,
   "metadata": {},
   "outputs": [
    {
     "name": "stdout",
     "output_type": "stream",
     "text": [
      "6 is perfect!\n",
      "28 is perfect!\n",
      "496 is perfect!\n",
      "8128 is perfect!\n"
     ]
    }
   ],
   "source": [
    "# further optimised algorithm:\n",
    "for n in range(2,10_000):\n",
    "    divisors = 1\n",
    "    for i in range(2,n//2+1):\n",
    "        if n % i == 0:\n",
    "            divisors += i\n",
    "    if divisors==n:\n",
    "        print(n,\"is perfect!\")  "
   ]
  },
  {
   "cell_type": "code",
   "execution_count": null,
   "metadata": {},
   "outputs": [],
   "source": [
    "# but computing the fifth perfect number takes up too much resources.\n",
    "# so we should solve it mathematically.\n",
    "# https://en.wikipedia.org/wiki/Perfect_number"
   ]
  },
  {
   "cell_type": "code",
   "execution_count": 22,
   "metadata": {},
   "outputs": [],
   "source": [
    "# let's take first six prime numbers:\n",
    "# p = 2, 3, 5, 7, 13, 17,...\n",
    "p_list = [2, 3, 5, 7, 13, 17,]"
   ]
  },
  {
   "cell_type": "code",
   "execution_count": 23,
   "metadata": {},
   "outputs": [],
   "source": [
    "def perfect_number(p):\n",
    "    p_minus1 = p-1\n",
    "    result = (2**p_minus1)*(2**p-1)    \n",
    "    print(format(result,'_'))"
   ]
  },
  {
   "cell_type": "code",
   "execution_count": 24,
   "metadata": {},
   "outputs": [
    {
     "name": "stdout",
     "output_type": "stream",
     "text": [
      "6\n",
      "28\n",
      "496\n",
      "8_128\n",
      "33_550_336\n",
      "8_589_869_056\n"
     ]
    }
   ],
   "source": [
    "for i in p_list:\n",
    "    perfect_number(i)"
   ]
  },
  {
   "cell_type": "code",
   "execution_count": null,
   "metadata": {},
   "outputs": [],
   "source": [
    "# now we've found the fifth perfect number.\n",
    "# (the sixth one is illustrative since it is out of our scope (2 to 100_000_000))."
   ]
  },
  {
   "cell_type": "code",
   "execution_count": null,
   "metadata": {},
   "outputs": [],
   "source": [
    "# done"
   ]
  }
 ],
 "metadata": {
  "kernelspec": {
   "display_name": "Python 3",
   "language": "python",
   "name": "python3"
  },
  "language_info": {
   "codemirror_mode": {
    "name": "ipython",
    "version": 3
   },
   "file_extension": ".py",
   "mimetype": "text/x-python",
   "name": "python",
   "nbconvert_exporter": "python",
   "pygments_lexer": "ipython3",
   "version": "3.12.0"
  }
 },
 "nbformat": 4,
 "nbformat_minor": 2
}
