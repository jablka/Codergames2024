{
 "cells": [
  {
   "cell_type": "code",
   "execution_count": 1,
   "metadata": {},
   "outputs": [],
   "source": [
    "import queue\n",
    "\n",
    "class TreeNode:\n",
    "    def __init__(self, value=0, left=None, right=None, index=None):\n",
    "        self.value = value\n",
    "        self.left = left\n",
    "        self.right = right\n",
    "        self.index = index  # Store the index within the node itself\n",
    "\n",
    "    def __repr__(self):\n",
    "        return f\"TreeNode(value={self.value}, index={self.index})\"\n",
    "\n",
    "class BinaryTree:\n",
    "    def __init__(self, faces, root=None):\n",
    "        self.root = root\n",
    "        self.insertion_counter = 0  # Track the order of insertion\n",
    "        self.faces = faces\n",
    "\n",
    "    def insert(self, value):\n",
    "        \"\"\"Inserts a value into the binary tree in the first available position (level order).\"\"\"\n",
    "        new_node = TreeNode(value, index=self.insertion_counter)\n",
    "        self.insertion_counter += 1  # Increment the counter with each insertion\n",
    "\n",
    "        if not self.root:\n",
    "            self.root = new_node\n",
    "        else:\n",
    "            # Use a queue to perform a level-order traversal to find the first empty spot\n",
    "            q = queue.Queue()\n",
    "            q.put(self.root)\n",
    "            \n",
    "            while not q.empty():\n",
    "                node = q.get()\n",
    "\n",
    "                if not node.left:\n",
    "                    node.left = new_node\n",
    "                    break\n",
    "                else:\n",
    "                    q.put(node.left)\n",
    "\n",
    "                if not node.right:\n",
    "                    node.right = new_node\n",
    "                    break\n",
    "                else:\n",
    "                    q.put(node.right)\n",
    "\n",
    "    def __getitem__(self, index):\n",
    "        \"\"\"Allows indexing to retrieve the value of the node by its insertion order.\"\"\"\n",
    "        if index < 0 or index >= self.insertion_counter:\n",
    "            raise IndexError(\"Index out of range\")\n",
    "        return self._find_by_index(self.root, index)\n",
    "\n",
    "    def _find_by_index(self, node, index):\n",
    "        \"\"\"Performs a level-order traversal to locate the node with a given index.\"\"\"\n",
    "        q = queue.Queue()\n",
    "        q.put(node)\n",
    "        \n",
    "        while not q.empty():\n",
    "            current_node = q.get()\n",
    "            if current_node.index == index:\n",
    "                # return current_node.value\n",
    "                return current_node\n",
    "\n",
    "            if current_node.left:\n",
    "                q.put(current_node.left)\n",
    "            if current_node.right:\n",
    "                q.put(current_node.right)\n",
    "        \n",
    "        raise IndexError(\"Node with the given index not found\")\n",
    "\n",
    "    def _preorder_traversal_and_change(self, node, oper):\n",
    "        result = []\n",
    "        if node:\n",
    "            node.value = (node.value + oper) % self.faces # 4 ... faces!\n",
    "            result.append(node.value)  # Visit the root node first\n",
    "            result.extend(self._preorder_traversal_and_change(node.left, oper=oper))  # Visit left subtree\n",
    "            result.extend(self._preorder_traversal_and_change(node.right, oper=oper))  # Visit right subtree\n",
    "        return result    "
   ]
  },
  {
   "cell_type": "code",
   "execution_count": 2,
   "metadata": {},
   "outputs": [],
   "source": [
    "def main_operations(s:str) -> str: \n",
    "    out = ''\n",
    "    faces, initial, target = None, None, None\n",
    "    for i in range(len(s)):\n",
    "        if i % 3 == 0:\n",
    "            # print(i,'nula')\n",
    "            faces = s[i]\n",
    "        elif i%3== 1:\n",
    "            # print(i,'jeden')\n",
    "            initial = s[i].split(' ')\n",
    "\n",
    "        elif i%3==2:\n",
    "            # print(i,'dva')\n",
    "            target = s[i].split(' ')\n",
    "\n",
    "        if faces and initial and target:\n",
    "            initial = list(map(int,initial))\n",
    "            target = list(map(int,target))\n",
    "            how_many = len(initial)\n",
    "            # print(f'{faces}')\n",
    "            faces = int(faces)\n",
    "            # print(f'{faces}')\n",
    "\n",
    "            tree = BinaryTree(faces=faces)\n",
    "            for i in initial:\n",
    "                tree.insert(i)\n",
    "\n",
    "            co_chcu = []\n",
    "            for i in range(how_many):\n",
    "                operation = target[i]-tree[i].value\n",
    "                print(target[i],'-',tree[i].value,'=',operation,' ',end='')\n",
    "                co_chcu.append(operation)\n",
    "                premenna = tree[i]\n",
    "                tree._preorder_traversal_and_change(premenna,operation)\n",
    "                my_list = [tree[x].value for x in range(how_many)]\n",
    "                print(my_list, end='')        \n",
    "                print()\n",
    "            out += repr(co_chcu)+'\\n'\n",
    "            # print(co_chcu)\n",
    "\n",
    "            # print('procedura')\n",
    "            # print()\n",
    "            faces, initial, target = None, None, None\n",
    "    return out"
   ]
  },
  {
   "cell_type": "code",
   "execution_count": 3,
   "metadata": {},
   "outputs": [
    {
     "name": "stdout",
     "output_type": "stream",
     "text": [
      "1 - 2 = -1  [1, 0, 0, 2, 2, 1]\n",
      "2 - 0 = 2  [1, 2, 0, 0, 0, 1]\n",
      "1 - 0 = 1  [1, 2, 1, 0, 0, 2]\n",
      "3 - 0 = 3  [1, 2, 1, 3, 0, 2]\n",
      "1 - 0 = 1  [1, 2, 1, 3, 1, 2]\n",
      "0 - 2 = -2  [1, 2, 1, 3, 1, 0]\n",
      "[-1, 2, 1, 3, 1, -2]\n"
     ]
    }
   ],
   "source": [
    "# test case:\n",
    "# the first row is the number of faces, the second row is the initial configuration, and the third row is the target configuration.\n",
    "s = '''4\n",
    "2 1 1 3 3 2\n",
    "1 2 1 3 1 0'''\n",
    "\n",
    "s = s.splitlines()    \n",
    "# len(s)\n",
    "\n",
    "output = main_operations(s)\n",
    "print(output[:-1]) # [:-1] because we don't need the last \"new line\" character"
   ]
  },
  {
   "cell_type": "code",
   "execution_count": 4,
   "metadata": {},
   "outputs": [
    {
     "name": "stdout",
     "output_type": "stream",
     "text": [
      "2 - 1 = 1  [2, 1, 2, 0, 1, 2]\n",
      "0 - 1 = -1  [2, 0, 2, 2, 0, 2]\n",
      "2 - 2 = 0  [2, 0, 2, 2, 0, 2]\n",
      "0 - 2 = -2  [2, 0, 2, 0, 0, 2]\n",
      "1 - 0 = 1  [2, 0, 2, 0, 1, 2]\n",
      "1 - 2 = -1  [2, 0, 2, 0, 1, 1]\n",
      "[1, -1, 0, -2, 1, -1]\n"
     ]
    }
   ],
   "source": [
    "# test case:\n",
    "# the first row is the number of faces, the second row is the initial configuration, and the third row is the target configuration.\n",
    "s = '''3\n",
    "1 0 1 2 0 1\n",
    "2 0 2 0 1 1'''\n",
    "\n",
    "s = s.splitlines()    \n",
    "# len(s)\n",
    "\n",
    "output = main_operations(s)\n",
    "print(output[:-1]) # [:-1] because we don't need the last \"new line\" character"
   ]
  },
  {
   "cell_type": "code",
   "execution_count": 5,
   "metadata": {},
   "outputs": [
    {
     "name": "stdout",
     "output_type": "stream",
     "text": [
      "1 - 0 = 1  [1, 0, 1]\n",
      "0 - 0 = 0  [1, 0, 1]\n",
      "1 - 1 = 0  [1, 0, 1]\n",
      "[1, 0, 0]\n"
     ]
    }
   ],
   "source": [
    "# test case:\n",
    "# the first row is the number of faces, the second row is the initial configuration, and the third row is the target configuration.\n",
    "s = '''3\n",
    "0 2 0\n",
    "1 0 1'''\n",
    "\n",
    "s = s.splitlines()    \n",
    "# len(s)\n",
    "\n",
    "output = main_operations(s)\n",
    "print(output[:-1]) # [:-1] because we don't need the last \"new line\" character"
   ]
  },
  {
   "cell_type": "code",
   "execution_count": null,
   "metadata": {},
   "outputs": [],
   "source": [
    "# done"
   ]
  }
 ],
 "metadata": {
  "kernelspec": {
   "display_name": "Python 3",
   "language": "python",
   "name": "python3"
  },
  "language_info": {
   "codemirror_mode": {
    "name": "ipython",
    "version": 3
   },
   "file_extension": ".py",
   "mimetype": "text/x-python",
   "name": "python",
   "nbconvert_exporter": "python",
   "pygments_lexer": "ipython3",
   "version": "3.12.0"
  }
 },
 "nbformat": 4,
 "nbformat_minor": 2
}
